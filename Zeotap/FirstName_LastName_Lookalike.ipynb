{
 "cells": [
  {
   "cell_type": "code",
   "execution_count": 2,
   "id": "6e0f52a8-863f-48f0-8ac3-8e8e1dcf872e",
   "metadata": {},
   "outputs": [
    {
     "name": "stdout",
     "output_type": "stream",
     "text": [
      "  TransactionID CustomerID ProductID      TransactionDate  Quantity  \\\n",
      "0        T00001      C0199      P067  2024-08-25 12:38:23         1   \n",
      "1        T00112      C0146      P067  2024-05-27 22:23:54         1   \n",
      "2        T00166      C0127      P067  2024-04-25 07:38:55         1   \n",
      "3        T00272      C0087      P067  2024-03-26 22:55:37         2   \n",
      "4        T00363      C0070      P067  2024-03-21 15:10:10         3   \n",
      "\n",
      "   TotalValue  Price_x     CustomerName         Region  SignupDate  \\\n",
      "0      300.68   300.68   Andrea Jenkins         Europe  2022-12-03   \n",
      "1      300.68   300.68  Brittany Harvey           Asia  2024-09-04   \n",
      "2      300.68   300.68  Kathryn Stevens         Europe  2024-04-04   \n",
      "3      601.36   300.68  Travis Campbell  South America  2024-04-11   \n",
      "4      902.04   300.68    Timothy Perez         Europe  2022-03-15   \n",
      "\n",
      "                       ProductName     Category  Price_y  \n",
      "0  ComfortLiving Bluetooth Speaker  Electronics   300.68  \n",
      "1  ComfortLiving Bluetooth Speaker  Electronics   300.68  \n",
      "2  ComfortLiving Bluetooth Speaker  Electronics   300.68  \n",
      "3  ComfortLiving Bluetooth Speaker  Electronics   300.68  \n",
      "4  ComfortLiving Bluetooth Speaker  Electronics   300.68  \n"
     ]
    }
   ],
   "source": [
    "import pandas as pd\n",
    "\n",
    "# Load the datasets\n",
    "customers = pd.read_csv('C:/Users/shara/OneDrive/Desktop/Zeotap/Customers.csv')\n",
    "products = pd.read_csv('C:/Users/shara/OneDrive/Desktop/Zeotap/Products.csv')\n",
    "transactions = pd.read_csv('C:/Users/shara/OneDrive/Desktop/Zeotap/Transactions.csv')\n",
    "\n",
    "# Merge customers and transactions\n",
    "customer_transactions = pd.merge(transactions, customers, on='CustomerID', how='left')\n",
    "# Merge with products\n",
    "customer_transactions = pd.merge(customer_transactions, products, on='ProductID', how='left')\n",
    "\n",
    "# Display the merged dataset\n",
    "print(customer_transactions.head())\n"
   ]
  },
  {
   "cell_type": "code",
   "execution_count": 3,
   "id": "25a1b4b1-4aaf-4046-842e-092c9983c7d2",
   "metadata": {},
   "outputs": [
    {
     "name": "stdout",
     "output_type": "stream",
     "text": [
      "CustomerID     C0001     C0002     C0003     C0004     C0005     C0006  \\\n",
      "CustomerID                                                               \n",
      "C0001       1.000000 -0.048829 -0.061476 -0.079060 -0.051689 -0.064034   \n",
      "C0002      -0.048829  1.000000 -0.035699 -0.051683 -0.023066 -0.033697   \n",
      "C0003      -0.061476 -0.035699  1.000000  0.040222  0.244296 -0.046598   \n",
      "C0004      -0.079060 -0.051683  0.040222  1.000000  0.079853 -0.065466   \n",
      "C0005      -0.051689 -0.023066  0.244296  0.079853  1.000000 -0.032509   \n",
      "\n",
      "CustomerID     C0007     C0008     C0009     C0010  ...     C0191     C0192  \\\n",
      "CustomerID                                          ...                       \n",
      "C0001       0.155253 -0.070888 -0.045940 -0.051430  ...  0.020577 -0.056895   \n",
      "C0002      -0.022453  0.247217 -0.001006 -0.028179  ... -0.037930 -0.026486   \n",
      "C0003      -0.033438  0.235872 -0.038271 -0.037193  ... -0.049557 -0.042124   \n",
      "C0004      -0.049865 -0.013040 -0.098337  0.041381  ... -0.066124 -0.065825   \n",
      "C0005      -0.019852 -0.052323  0.026965 -0.028529  ... -0.038787  0.232636   \n",
      "\n",
      "CustomerID     C0193     C0194     C0195     C0196     C0197     C0198  \\\n",
      "CustomerID                                                               \n",
      "C0001      -0.058268  0.404928 -0.081427 -0.053254 -0.053059 -0.038385   \n",
      "C0002      -0.032004 -0.048461 -0.050541 -0.027361 -0.025479 -0.001653   \n",
      "C0003      -0.042122 -0.057017 -0.057647 -0.038891 -0.039122 -0.031808   \n",
      "C0004      -0.056596  0.011051 -0.066194 -0.055914 -0.059661 -0.080364   \n",
      "C0005      -0.032494  0.110476 -0.058034 -0.025598 -0.021636  0.020768   \n",
      "\n",
      "CustomerID     C0199     C0200  \n",
      "CustomerID                      \n",
      "C0001       0.349028 -0.067244  \n",
      "C0002      -0.034533 -0.040300  \n",
      "C0003      -0.047667 -0.047907  \n",
      "C0004       0.132184 -0.057853  \n",
      "C0005      -0.033383 -0.044805  \n",
      "\n",
      "[5 rows x 199 columns]\n"
     ]
    }
   ],
   "source": [
    "from sklearn.metrics.pairwise import cosine_similarity\n",
    "from sklearn.preprocessing import StandardScaler\n",
    "\n",
    "# Example of creating customer profiles based on product purchase quantities\n",
    "customer_profiles = customer_transactions.pivot_table(index='CustomerID', columns='ProductID', values='Quantity', aggfunc='sum').fillna(0)\n",
    "\n",
    "# Standardize the profiles\n",
    "scaler = StandardScaler()\n",
    "customer_profiles_scaled = scaler.fit_transform(customer_profiles)\n",
    "\n",
    "# Calculate cosine similarity\n",
    "similarity_matrix = cosine_similarity(customer_profiles_scaled)\n",
    "\n",
    "# Create a DataFrame for similarity scores\n",
    "similarity_df = pd.DataFrame(similarity_matrix, index=customer_profiles.index, columns=customer_profiles.index)\n",
    "print(similarity_df.head())\n"
   ]
  },
  {
   "cell_type": "code",
   "execution_count": null,
   "id": "d09657dc-65c7-4cca-8d58-158fb338f942",
   "metadata": {},
   "outputs": [],
   "source": [
    "# Function to get top N similar customers\n",
    "def get_top_n_similar_customers(customer_id, top_n=3):\n",
    "    similar_customers = similarity_df[customer_id].sort_values(ascending=False).head(top_n + 1).iloc[1:]\n",
    "    return similar_customers\n",
    "\n",
    "# Generate recommendations for the first 20 customers\n",
    "lookalike_results = {}\n",
    "for customer_id in similarity_df.index[:20]:\n",
    "    top_similar_customers = get_top_n_similar_customers(customer_id)\n",
    "    lookalike_results[customer_id] = top_similar_customers\n",
    "\n",
    "# Convert the results to the required format\n",
    "lookalike_list = []\n",
    "for cust_id, similar in lookalike_results.items():\n",
    "    for sim_cust_id, score in similar.items():\n",
    "        lookalike_list.append({'cust_id': cust_id, 'similar_cust_id': sim_cust_id, 'score': score})\n",
    "\n",
    "lookalike_df = pd.DataFrame(lookalike_list)\n",
    "print(lookalike_df.head())\n"
   ]
  }
 ],
 "metadata": {
  "kernelspec": {
   "display_name": "Python 3 (ipykernel)",
   "language": "python",
   "name": "python3"
  },
  "language_info": {
   "codemirror_mode": {
    "name": "ipython",
    "version": 3
   },
   "file_extension": ".py",
   "mimetype": "text/x-python",
   "name": "python",
   "nbconvert_exporter": "python",
   "pygments_lexer": "ipython3",
   "version": "3.12.7"
  }
 },
 "nbformat": 4,
 "nbformat_minor": 5
}
